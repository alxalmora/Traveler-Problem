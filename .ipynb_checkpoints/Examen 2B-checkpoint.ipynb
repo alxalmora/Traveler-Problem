{
 "cells": [
  {
   "cell_type": "code",
   "execution_count": 9,
   "metadata": {},
   "outputs": [],
   "source": [
    "import numpy as np\n",
    "import matplotlib.pyplot as plt\n",
    "import math\n",
    "import heapq, sys"
   ]
  },
  {
   "cell_type": "markdown",
   "metadata": {},
   "source": [
    "# Ejercicio 1\n",
    "\n",
    "## Diferencia Principal\n",
    "\n",
    "Dijkstra es un algoritmo que encuentra la ruta más corta entre un nodo de inicio y un nodo de fin. Mientras que Floyd encuentra la distancia más corta entre cada par de vertices.\n",
    "\n",
    "Para esto es importante la noción de **dirección** y **distancia**, **dirección** es como *avanzamos*, es decir, si de un nodo $A$ existe una ruta directa hacia un nodo $B$ y la **distancia** es cuanto nos cuesta avanzar de un nodo $A$ con una ruta directa a dirección $B$. No necesariamente es el mismo costo ir de $A$ a $B$ que de $B$ a $A$.\n"
   ]
  },
  {
   "cell_type": "markdown",
   "metadata": {},
   "source": [
    "# Definicion de Algoritmos."
   ]
  },
  {
   "cell_type": "code",
   "execution_count": 6,
   "metadata": {},
   "outputs": [],
   "source": [
    "distance_matrix = [\n",
    "    [0, 5, 3, -1,-1,-1,-1],\n",
    "    [5, 0, 1, 5, 2, -1,-1],\n",
    "    [3, 1, 0, 7,-1, -1,12],\n",
    "    [-1,5, 7, 0, 3, -1, 3],\n",
    "    [-1,2,-1, 3, 0, 1, -1],\n",
    "    [-1,-1,-1,1, 1, 0, -1],\n",
    "    [-1,-1, 12,3,-1, 4, 0]\n",
    "]\n",
    "start_point = 1\n",
    "end_point = 7\n",
    "min_distance = math.inf"
   ]
  },
  {
   "cell_type": "code",
   "execution_count": 10,
   "metadata": {},
   "outputs": [],
   "source": [
    "def dijkstras(adjMatrix, sourceNode, destNode):\n",
    "    distances = {}\n",
    "    path = {}\n",
    "    for node in range(len(adjMatrix)):\n",
    "        distances[node] = float(sys.maxsize)\n",
    "        path[node] = None\n",
    "    distances[sourceNode] = 0\n",
    "     # 3. Select the unvisited node with the smallest distance, \n",
    "    # it's current node now.\n",
    "    pq = []\n",
    "    for node in range(len(adjMatrix)):\n",
    "        heapq.heappush(pq, (node, distances[node]))\n",
    "\n",
    "    while len(pq) != 0:\n",
    "        currNode, currNodeDistance = heapq.heappop(pq)\n",
    "\n",
    "        # 4. Find unvisited neighbors for the current node \n",
    "        # and calculate their distances through the current node.\n",
    "\n",
    "        for neighborNode in range(len(adjMatrix[currNode])):\n",
    "            if adjMatrix[currNode][neighborNode] > 0:\n",
    "                weight = adjMatrix[currNode][neighborNode]\n",
    "                distance = currNodeDistance + weight\n",
    "                # Compare the newly calculated distance to the assigned \n",
    "              # and save the smaller one.\n",
    "                if distance < distances[neighborNode]:\n",
    "                    distances[neighborNode] = distance\n",
    "                    heapq.heappush(pq, (neighborNode, distance))\n",
    "                    path[neighborNode] = currNode\n",
    "\n",
    "    return path, distances[destNode]"
   ]
  },
  {
   "cell_type": "code",
   "execution_count": 11,
   "metadata": {},
   "outputs": [
    {
     "ename": "KeyboardInterrupt",
     "evalue": "",
     "output_type": "error",
     "traceback": [
      "\u001b[0;31m---------------------------------------------------------------------------\u001b[0m",
      "\u001b[0;31mKeyboardInterrupt\u001b[0m                         Traceback (most recent call last)",
      "\u001b[0;32m<ipython-input-11-92d6935cf693>\u001b[0m in \u001b[0;36m<module>\u001b[0;34m\u001b[0m\n\u001b[0;32m----> 1\u001b[0;31m \u001b[0mpath\u001b[0m\u001b[0;34m,\u001b[0m \u001b[0mdist\u001b[0m \u001b[0;34m=\u001b[0m \u001b[0mdijkstras\u001b[0m\u001b[0;34m(\u001b[0m\u001b[0mdistance_matrix\u001b[0m\u001b[0;34m,\u001b[0m \u001b[0mstart_point\u001b[0m\u001b[0;34m-\u001b[0m\u001b[0;36m1\u001b[0m\u001b[0;34m,\u001b[0m \u001b[0mend_point\u001b[0m\u001b[0;34m-\u001b[0m\u001b[0;36m1\u001b[0m\u001b[0;34m)\u001b[0m\u001b[0;34m\u001b[0m\u001b[0;34m\u001b[0m\u001b[0m\n\u001b[0m",
      "\u001b[0;32m<ipython-input-10-d2dc5fb2a6d9>\u001b[0m in \u001b[0;36mdijkstras\u001b[0;34m(adjMatrix, sourceNode, destNode)\u001b[0m\n\u001b[1;32m     13\u001b[0m \u001b[0;34m\u001b[0m\u001b[0m\n\u001b[1;32m     14\u001b[0m     \u001b[0;32mwhile\u001b[0m \u001b[0mlen\u001b[0m\u001b[0;34m(\u001b[0m\u001b[0mpq\u001b[0m\u001b[0;34m)\u001b[0m \u001b[0;34m!=\u001b[0m \u001b[0;36m0\u001b[0m\u001b[0;34m:\u001b[0m\u001b[0;34m\u001b[0m\u001b[0;34m\u001b[0m\u001b[0m\n\u001b[0;32m---> 15\u001b[0;31m         \u001b[0mcurrNode\u001b[0m\u001b[0;34m,\u001b[0m \u001b[0mcurrNodeDistance\u001b[0m \u001b[0;34m=\u001b[0m \u001b[0mheapq\u001b[0m\u001b[0;34m.\u001b[0m\u001b[0mheappop\u001b[0m\u001b[0;34m(\u001b[0m\u001b[0mpq\u001b[0m\u001b[0;34m)\u001b[0m\u001b[0;34m\u001b[0m\u001b[0;34m\u001b[0m\u001b[0m\n\u001b[0m\u001b[1;32m     16\u001b[0m \u001b[0;34m\u001b[0m\u001b[0m\n\u001b[1;32m     17\u001b[0m         \u001b[0;31m# 4. Find unvisited neighbors for the current node\u001b[0m\u001b[0;34m\u001b[0m\u001b[0;34m\u001b[0m\u001b[0;34m\u001b[0m\u001b[0m\n",
      "\u001b[0;31mKeyboardInterrupt\u001b[0m: "
     ]
    }
   ],
   "source": [
    " path, dist = dijkstras(distance_matrix, start_point-1, end_point-1)"
   ]
  },
  {
   "cell_type": "code",
   "execution_count": null,
   "metadata": {},
   "outputs": [],
   "source": []
  }
 ],
 "metadata": {
  "kernelspec": {
   "display_name": "Python 3",
   "language": "python",
   "name": "python3"
  },
  "language_info": {
   "codemirror_mode": {
    "name": "ipython",
    "version": 3
   },
   "file_extension": ".py",
   "mimetype": "text/x-python",
   "name": "python",
   "nbconvert_exporter": "python",
   "pygments_lexer": "ipython3",
   "version": "3.6.9"
  }
 },
 "nbformat": 4,
 "nbformat_minor": 2
}
