{
 "cells": [
  {
   "cell_type": "code",
   "execution_count": 9,
   "metadata": {},
   "outputs": [],
   "source": [
    "import numpy as np\n",
    "import matplotlib.pyplot as plt\n",
    "import math\n",
    "import heapq, sys"
   ]
  },
  {
   "cell_type": "markdown",
   "metadata": {},
   "source": [
    "# Ejercicio 1\n",
    "\n",
    "## Diferencia Principal\n",
    "\n",
    "Dijkstra es un algoritmo que encuentra la ruta más corta entre un nodo de inicio y un nodo de fin. Mientras que Floyd encuentra la distancia más corta entre cada par de vertices.\n",
    "\n",
    "Para esto es importante la noción de **dirección** y **distancia**, **dirección** es como *avanzamos*, es decir, si de un nodo $A$ existe una ruta directa hacia un nodo $B$ y la **distancia** es cuanto nos cuesta avanzar de un nodo $A$ con una ruta directa a dirección $B$. No necesariamente es el mismo costo ir de $A$ a $B$ que de $B$ a $A$.\n"
   ]
  },
  {
   "cell_type": "markdown",
   "metadata": {},
   "source": [
    "# Definicion de Algoritmos."
   ]
  },
  {
   "cell_type": "code",
   "execution_count": 40,
   "metadata": {},
   "outputs": [],
   "source": [
    "def dijkstras(adjMatrix, sourceNode, destNode):\n",
    "    distances = {}\n",
    "    path = {}\n",
    "    for node in range(len(adjMatrix)):\n",
    "        distances[node] = float(sys.maxsize)\n",
    "        path[node] = None\n",
    "    distances[sourceNode] = 0\n",
    "    pq = []\n",
    "    for node in range(len(adjMatrix)):\n",
    "        heapq.heappush(pq, (node, distances[node]))\n",
    "\n",
    "    while len(pq) != 0:\n",
    "        currNode, currNodeDistance = heapq.heappop(pq)\n",
    "        for neighborNode in range(len(adjMatrix[currNode])):\n",
    "            if adjMatrix[currNode][neighborNode] > 0:\n",
    "                weight = adjMatrix[currNode][neighborNode]\n",
    "                distance = currNodeDistance + weight\n",
    "                if distance < distances[neighborNode]:\n",
    "                    distances[neighborNode] = distance\n",
    "                    heapq.heappush(pq, (neighborNode, distance))\n",
    "                    path[neighborNode] = currNode\n",
    "    return path, distances[destNode]"
   ]
  },
  {
   "cell_type": "code",
   "execution_count": 42,
   "metadata": {},
   "outputs": [],
   "source": [
    "def floyd(adjMatrix):\n",
    "    min_paths = []\n",
    "    for i in range(len(adjMatrix)):\n",
    "        for j in range(len(adjMatrix)):\n",
    "            if(i != j):\n",
    "                path, dist = dijkstras(adjMatrix, i, j)\n",
    "                min_paths.append({\"Start\": i+1, \"End\":j+1, \"route\": path, \"distance\":dist })\n",
    "    return min_paths"
   ]
  },
  {
   "cell_type": "code",
   "execution_count": 43,
   "metadata": {},
   "outputs": [],
   "source": [
    "def pathString(path, startVertex, endVertex):\n",
    "    curr = endVertex\n",
    "    listOfPaths = [curr]\n",
    "    while(curr != startVertex):\n",
    "        curr = path[curr]\n",
    "        listOfPaths[:0] = [curr]\n",
    "    s = str(listOfPaths[0]+1)\n",
    "    for i in range(1, len(listOfPaths)):\n",
    "        if i < len(listOfPaths) - 1:\n",
    "            s += \"-\" + str(listOfPaths[i]+1)\n",
    "        else:\n",
    "            str(listOfPaths[i]+1)\n",
    "    return s + \"-\"+str(endVertex+1)"
   ]
  },
  {
   "cell_type": "markdown",
   "metadata": {},
   "source": [
    "# Ejercicio 2\n",
    "\n",
    "Modelamos el sistema como un problema de ruta más corta. Con lo que obtenemos un diagrama como este:\n",
    "\n",
    "![](diagrama2.png)\n",
    "\n",
    "Con lo que construimos la matriz de distancia para encontrar la ruta mas corta de $1 \\rightarrow 5$"
   ]
  },
  {
   "cell_type": "code",
   "execution_count": 51,
   "metadata": {},
   "outputs": [
    {
     "name": "stdout",
     "output_type": "stream",
     "text": [
      "Distancia Minima de 1 a 5: 7596, Ruta Optima: 1-2-3-5\n"
     ]
    }
   ],
   "source": [
    "distance_matrix = [\n",
    "    [0, 1600,3868,7522,10870],\n",
    "    [-1,   0, 1780,4552,7144],\n",
    "    [-1,-1,     0, 2200,4216],\n",
    "    [-1,-1,-1,        0,2620],\n",
    "    [-1,-1,-1,-1,          0]\n",
    "]\n",
    "route, distance = dijkstras(distance_matrix, 0, 4)\n",
    "print(\"Distancia Minima de 1 a 5: \" + str(distance) + \\\n",
    "      \", Ruta Optima: \"+ pathString(route,0,4))"
   ]
  },
  {
   "cell_type": "markdown",
   "metadata": {},
   "source": [
    "Vemos que la distancia minima es 7596, que representa el costo total y la forma de obtener ese costo minimo es:\n",
    "\n",
    "- En el mes 1: Ordenar unicamente las unidades para el mes 1, es decir 100\n",
    "- En el mes 2: Ordenar unicamente las unidades para el mes 2, es decir, 140\n",
    "- En el mes 3: Ordenar las unidades para el mes 3 y mes 4, es decir, 390\n",
    "- El ultimo estado (mes 5): es *flotante* solo un punto de meta, no se ordena nada, pero sirve para indicar las ordenes que entran en el mes 4. "
   ]
  },
  {
   "cell_type": "markdown",
   "metadata": {},
   "source": [
    "# Ejercicio 3\n",
    "\n",
    "Aplique  el  algoritmo  de  Floyd  a  la  red  de  la  siguiente  figura.   Los  arcos  (7,6)  y  (6,4)  sonunidireccionales, y todas las distancias est ́an en millas.  Determine la ruta m ́as corta entre lossiguientes pares de nodos\n",
    "\n",
    "## Floyd"
   ]
  },
  {
   "cell_type": "code",
   "execution_count": 39,
   "metadata": {},
   "outputs": [],
   "source": [
    "distance_matrix = [\n",
    "    [0, 5, 3, -1,-1,-1,-1],\n",
    "    [5, 0, 1, 5, 2, -1,-1],\n",
    "    [3, 1, 0, 7,-1, -1,12],\n",
    "    [-1,5, 7, 0, 3, -1, 3],\n",
    "    [-1,2,-1, 3, 0, 1, -1],\n",
    "    [-1,-1,-1,1, 1, 0, -1],\n",
    "    [-1,-1, 12,3,-1, 4, 0]\n",
    "]"
   ]
  },
  {
   "cell_type": "code",
   "execution_count": 47,
   "metadata": {},
   "outputs": [
    {
     "name": "stdout",
     "output_type": "stream",
     "text": [
      " Inicio: 1 Fin: 2, Distancia Minima: 4 Ruta: 1-3-2\n",
      " Inicio: 1 Fin: 3, Distancia Minima: 3 Ruta: 1-3\n",
      " Inicio: 1 Fin: 4, Distancia Minima: 8 Ruta: 1-3-2-5-6-4\n",
      " Inicio: 1 Fin: 5, Distancia Minima: 6 Ruta: 1-3-2-5\n",
      " Inicio: 1 Fin: 6, Distancia Minima: 7 Ruta: 1-3-2-5-6\n",
      " Inicio: 1 Fin: 7, Distancia Minima: 11 Ruta: 1-3-2-5-6-4-7\n",
      " Inicio: 2 Fin: 1, Distancia Minima: 4 Ruta: 2-3-1\n",
      " Inicio: 2 Fin: 3, Distancia Minima: 1 Ruta: 2-3\n",
      " Inicio: 2 Fin: 4, Distancia Minima: 4 Ruta: 2-5-6-4\n",
      " Inicio: 2 Fin: 5, Distancia Minima: 2 Ruta: 2-5\n",
      " Inicio: 2 Fin: 6, Distancia Minima: 3 Ruta: 2-5-6\n",
      " Inicio: 2 Fin: 7, Distancia Minima: 7 Ruta: 2-5-6-4-7\n",
      " Inicio: 3 Fin: 1, Distancia Minima: 3 Ruta: 3-1\n",
      " Inicio: 3 Fin: 2, Distancia Minima: 1 Ruta: 3-2\n",
      " Inicio: 3 Fin: 4, Distancia Minima: 5 Ruta: 3-2-5-6-4\n",
      " Inicio: 3 Fin: 5, Distancia Minima: 3 Ruta: 3-2-5\n",
      " Inicio: 3 Fin: 6, Distancia Minima: 4 Ruta: 3-2-5-6\n",
      " Inicio: 3 Fin: 7, Distancia Minima: 8 Ruta: 3-2-5-6-4-7\n",
      " Inicio: 4 Fin: 1, Distancia Minima: 9 Ruta: 4-2-3-1\n",
      " Inicio: 4 Fin: 2, Distancia Minima: 5 Ruta: 4-2\n",
      " Inicio: 4 Fin: 3, Distancia Minima: 6 Ruta: 4-2-3\n",
      " Inicio: 4 Fin: 5, Distancia Minima: 3 Ruta: 4-5\n",
      " Inicio: 4 Fin: 6, Distancia Minima: 4 Ruta: 4-5-6\n",
      " Inicio: 4 Fin: 7, Distancia Minima: 3 Ruta: 4-7\n",
      " Inicio: 5 Fin: 1, Distancia Minima: 6 Ruta: 5-2-3-1\n",
      " Inicio: 5 Fin: 2, Distancia Minima: 2 Ruta: 5-2\n",
      " Inicio: 5 Fin: 3, Distancia Minima: 3 Ruta: 5-2-3\n",
      " Inicio: 5 Fin: 4, Distancia Minima: 2 Ruta: 5-6-4\n",
      " Inicio: 5 Fin: 6, Distancia Minima: 1 Ruta: 5-6\n",
      " Inicio: 5 Fin: 7, Distancia Minima: 5 Ruta: 5-6-4-7\n",
      " Inicio: 6 Fin: 1, Distancia Minima: 7 Ruta: 6-5-2-3-1\n",
      " Inicio: 6 Fin: 2, Distancia Minima: 3 Ruta: 6-5-2\n",
      " Inicio: 6 Fin: 3, Distancia Minima: 4 Ruta: 6-5-2-3\n",
      " Inicio: 6 Fin: 4, Distancia Minima: 1 Ruta: 6-4\n",
      " Inicio: 6 Fin: 5, Distancia Minima: 1 Ruta: 6-5\n",
      " Inicio: 6 Fin: 7, Distancia Minima: 4 Ruta: 6-4-7\n",
      " Inicio: 7 Fin: 1, Distancia Minima: 11 Ruta: 7-6-5-2-3-1\n",
      " Inicio: 7 Fin: 2, Distancia Minima: 7 Ruta: 7-6-5-2\n",
      " Inicio: 7 Fin: 3, Distancia Minima: 8 Ruta: 7-6-5-2-3\n",
      " Inicio: 7 Fin: 4, Distancia Minima: 3 Ruta: 7-4\n",
      " Inicio: 7 Fin: 5, Distancia Minima: 5 Ruta: 7-6-5\n",
      " Inicio: 7 Fin: 6, Distancia Minima: 4 Ruta: 7-6\n"
     ]
    }
   ],
   "source": [
    "routes = floyd(distance_matrix)\n",
    "for route in routes:\n",
    "    print(\" Inicio: \" + str(route[\"Start\"]) + \\\n",
    "          \" Fin: \" + str(route[\"End\"]) + \\\n",
    "          \", Distancia Minima: \"+ str(route[\"distance\"]) + \\\n",
    "          \" Ruta: \" + pathString(route[\"route\"], route[\"Start\"]-1, route[\"End\"]-1))"
   ]
  },
  {
   "cell_type": "markdown",
   "metadata": {},
   "source": [
    "Vemos que la ruta de $1 \\rightarrow 7$ es diferente a la de $7 \\rightarrow 1$, pues hay trayectorias unidireccionales, es decir, podemos llegar de $A \\rightarrow B$ pero no podemos llegar de $A \\leftarrow B$.\n",
    "\n",
    "Ruta de $1 \\rightarrow 7$: $1\\rightarrow3\\rightarrow2\\rightarrow5\\rightarrow6\\rightarrow4\\rightarrow7$\n",
    "\n",
    "Ruta de $7 \\rightarrow 1$: $7\\rightarrow6\\rightarrow5\\rightarrow2\\rightarrow3\\rightarrow1$"
   ]
  }
 ],
 "metadata": {
  "kernelspec": {
   "display_name": "Python 3",
   "language": "python",
   "name": "python3"
  },
  "language_info": {
   "codemirror_mode": {
    "name": "ipython",
    "version": 3
   },
   "file_extension": ".py",
   "mimetype": "text/x-python",
   "name": "python",
   "nbconvert_exporter": "python",
   "pygments_lexer": "ipython3",
   "version": "3.6.9"
  }
 },
 "nbformat": 4,
 "nbformat_minor": 2
}
